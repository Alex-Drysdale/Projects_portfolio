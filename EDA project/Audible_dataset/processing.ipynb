{
 "cells": [
  {
   "cell_type": "markdown",
   "id": "fe7f999f",
   "metadata": {},
   "source": [
    "### Aims\n",
    "* clean\n",
    "* visualise\n",
    "* analyse with plotly dashboard"
   ]
  },
  {
   "cell_type": "code",
   "execution_count": 1,
   "id": "acda0788",
   "metadata": {},
   "outputs": [],
   "source": [
    "import pandas as pd\n",
    "import matplotlib.pyplot as plt\n",
    "import seaborn as sns\n",
    "import numpy as np"
   ]
  },
  {
   "cell_type": "code",
   "execution_count": 2,
   "id": "9a249e32",
   "metadata": {},
   "outputs": [
    {
     "data": {
      "text/html": [
       "<div>\n",
       "<style scoped>\n",
       "    .dataframe tbody tr th:only-of-type {\n",
       "        vertical-align: middle;\n",
       "    }\n",
       "\n",
       "    .dataframe tbody tr th {\n",
       "        vertical-align: top;\n",
       "    }\n",
       "\n",
       "    .dataframe thead th {\n",
       "        text-align: right;\n",
       "    }\n",
       "</style>\n",
       "<table border=\"1\" class=\"dataframe\">\n",
       "  <thead>\n",
       "    <tr style=\"text-align: right;\">\n",
       "      <th></th>\n",
       "      <th>name</th>\n",
       "      <th>author</th>\n",
       "      <th>narrator</th>\n",
       "      <th>time</th>\n",
       "      <th>releasedate</th>\n",
       "      <th>language</th>\n",
       "      <th>stars</th>\n",
       "      <th>price</th>\n",
       "    </tr>\n",
       "  </thead>\n",
       "  <tbody>\n",
       "    <tr>\n",
       "      <th>0</th>\n",
       "      <td>Geronimo Stilton #11 &amp; #12</td>\n",
       "      <td>Writtenby:GeronimoStilton</td>\n",
       "      <td>Narratedby:BillLobely</td>\n",
       "      <td>2 hrs and 20 mins</td>\n",
       "      <td>04-08-08</td>\n",
       "      <td>English</td>\n",
       "      <td>5 out of 5 stars34 ratings</td>\n",
       "      <td>468.00</td>\n",
       "    </tr>\n",
       "    <tr>\n",
       "      <th>1</th>\n",
       "      <td>The Burning Maze</td>\n",
       "      <td>Writtenby:RickRiordan</td>\n",
       "      <td>Narratedby:RobbieDaymond</td>\n",
       "      <td>13 hrs and 8 mins</td>\n",
       "      <td>01-05-18</td>\n",
       "      <td>English</td>\n",
       "      <td>4.5 out of 5 stars41 ratings</td>\n",
       "      <td>820.00</td>\n",
       "    </tr>\n",
       "    <tr>\n",
       "      <th>2</th>\n",
       "      <td>The Deep End</td>\n",
       "      <td>Writtenby:JeffKinney</td>\n",
       "      <td>Narratedby:DanRussell</td>\n",
       "      <td>2 hrs and 3 mins</td>\n",
       "      <td>06-11-20</td>\n",
       "      <td>English</td>\n",
       "      <td>4.5 out of 5 stars38 ratings</td>\n",
       "      <td>410.00</td>\n",
       "    </tr>\n",
       "    <tr>\n",
       "      <th>3</th>\n",
       "      <td>Daughter of the Deep</td>\n",
       "      <td>Writtenby:RickRiordan</td>\n",
       "      <td>Narratedby:SoneelaNankani</td>\n",
       "      <td>11 hrs and 16 mins</td>\n",
       "      <td>05-10-21</td>\n",
       "      <td>English</td>\n",
       "      <td>4.5 out of 5 stars12 ratings</td>\n",
       "      <td>615.00</td>\n",
       "    </tr>\n",
       "    <tr>\n",
       "      <th>4</th>\n",
       "      <td>The Lightning Thief: Percy Jackson, Book 1</td>\n",
       "      <td>Writtenby:RickRiordan</td>\n",
       "      <td>Narratedby:JesseBernstein</td>\n",
       "      <td>10 hrs</td>\n",
       "      <td>13-01-10</td>\n",
       "      <td>English</td>\n",
       "      <td>4.5 out of 5 stars181 ratings</td>\n",
       "      <td>820.00</td>\n",
       "    </tr>\n",
       "  </tbody>\n",
       "</table>\n",
       "</div>"
      ],
      "text/plain": [
       "                                         name                     author  \\\n",
       "0                  Geronimo Stilton #11 & #12  Writtenby:GeronimoStilton   \n",
       "1                            The Burning Maze      Writtenby:RickRiordan   \n",
       "2                                The Deep End       Writtenby:JeffKinney   \n",
       "3                        Daughter of the Deep      Writtenby:RickRiordan   \n",
       "4  The Lightning Thief: Percy Jackson, Book 1      Writtenby:RickRiordan   \n",
       "\n",
       "                    narrator                time releasedate language  \\\n",
       "0      Narratedby:BillLobely   2 hrs and 20 mins    04-08-08  English   \n",
       "1   Narratedby:RobbieDaymond   13 hrs and 8 mins    01-05-18  English   \n",
       "2      Narratedby:DanRussell    2 hrs and 3 mins    06-11-20  English   \n",
       "3  Narratedby:SoneelaNankani  11 hrs and 16 mins    05-10-21  English   \n",
       "4  Narratedby:JesseBernstein              10 hrs    13-01-10  English   \n",
       "\n",
       "                           stars   price  \n",
       "0     5 out of 5 stars34 ratings  468.00  \n",
       "1   4.5 out of 5 stars41 ratings  820.00  \n",
       "2   4.5 out of 5 stars38 ratings  410.00  \n",
       "3   4.5 out of 5 stars12 ratings  615.00  \n",
       "4  4.5 out of 5 stars181 ratings  820.00  "
      ]
     },
     "execution_count": 2,
     "metadata": {},
     "output_type": "execute_result"
    }
   ],
   "source": [
    "df = pd.read_csv('audible_uncleaned.csv')\n",
    "df.head()"
   ]
  },
  {
   "cell_type": "code",
   "execution_count": 3,
   "id": "08b30495",
   "metadata": {},
   "outputs": [
    {
     "name": "stdout",
     "output_type": "stream",
     "text": [
      "(87489, 8)\n",
      "Index(['name', 'author', 'narrator', 'time', 'releasedate', 'language',\n",
      "       'stars', 'price'],\n",
      "      dtype='object')\n",
      "<class 'pandas.core.frame.DataFrame'>\n",
      "RangeIndex: 87489 entries, 0 to 87488\n",
      "Data columns (total 8 columns):\n",
      " #   Column       Non-Null Count  Dtype \n",
      "---  ------       --------------  ----- \n",
      " 0   name         87489 non-null  object\n",
      " 1   author       87489 non-null  object\n",
      " 2   narrator     87489 non-null  object\n",
      " 3   time         87489 non-null  object\n",
      " 4   releasedate  87489 non-null  object\n",
      " 5   language     87489 non-null  object\n",
      " 6   stars        87489 non-null  object\n",
      " 7   price        87489 non-null  object\n",
      "dtypes: object(8)\n",
      "memory usage: 5.3+ MB\n",
      "None\n"
     ]
    }
   ],
   "source": [
    "print(df.shape)\n",
    "print(df.columns)\n",
    "print(df.info())"
   ]
  },
  {
   "cell_type": "markdown",
   "id": "58d4cd63",
   "metadata": {},
   "source": [
    "### Thoughts\n",
    "* Author has 'Written by' at the beginning and then no space between first name and surname\n",
    "* narrator has similar problem\n",
    "* time can be converted to a 24 hour system i think\n",
    "* Language - check syntax as unique values\n",
    "* stars column is  mess - seperate into rating and number of ratings. \n",
    "* price - convert dtype"
   ]
  },
  {
   "cell_type": "code",
   "execution_count": 4,
   "id": "f6fc3f57",
   "metadata": {},
   "outputs": [
    {
     "name": "stdout",
     "output_type": "stream",
     "text": [
      "0      Writtenby:GeronimoStilton\n",
      "1          Writtenby:RickRiordan\n",
      "2           Writtenby:JeffKinney\n",
      "3          Writtenby:RickRiordan\n",
      "4          Writtenby:RickRiordan\n",
      "5       Writtenby:SuzanneCollins\n",
      "6         Writtenby:WinterMorgan\n",
      "7          Writtenby:RickRiordan\n",
      "8      Writtenby:MaryPopeOsborne\n",
      "9          Writtenby:RickRiordan\n",
      "10         Writtenby:RickRiordan\n",
      "11     Writtenby:MaryPopeOsborne\n",
      "12     Writtenby:MaryPopeOsborne\n",
      "13         Writtenby:RickRiordan\n",
      "14       Writtenby:PhilipPullman\n",
      "15     Writtenby:GeronimoStilton\n",
      "16     Writtenby:MaryPopeOsborne\n",
      "17    Writtenby:ShannonMessenger\n",
      "18     Writtenby:MaryPopeOsborne\n",
      "19    Writtenby:ShannonMessenger\n",
      "Name: author, dtype: object\n"
     ]
    },
    {
     "data": {
      "text/plain": [
       "87469                   Writtenby:MarkTwain\n",
       "87470               Writtenby:LarryMcMurtry\n",
       "87471                  Writtenby:JeffShaara\n",
       "87472              Writtenby:LaurenceSterne\n",
       "87473                  Writtenby:JeffShaara\n",
       "87474              Writtenby:StephenBrennan\n",
       "87475              Writtenby:ElisabethEaves\n",
       "87476              Writtenby:ChelseaHandler\n",
       "87477            Writtenby:PeterMatthiessen\n",
       "87478                Writtenby:EdithWharton\n",
       "87479        Writtenby:MattSmith,KarenSmith\n",
       "87480                Writtenby:ColinThubron\n",
       "87481                Writtenby:ColinThubron\n",
       "87482    Writtenby:DonWatson,HamishHamilton\n",
       "87483             Writtenby:RogerW.Thompson\n",
       "87484                Writtenby:ChrisStewart\n",
       "87485               Writtenby:StephenO'Shea\n",
       "87486                   Writtenby:MarkTwain\n",
       "87487              Writtenby:LaurenceSterne\n",
       "87488               Writtenby:MarkKurlansky\n",
       "Name: author, dtype: object"
      ]
     },
     "execution_count": 4,
     "metadata": {},
     "output_type": "execute_result"
    }
   ],
   "source": [
    "# author column\n",
    "print(df.author.head(20))\n",
    "df.author.tail(20)"
   ]
  },
  {
   "cell_type": "code",
   "execution_count": null,
   "id": "6bc63dd8",
   "metadata": {},
   "outputs": [],
   "source": []
  }
 ],
 "metadata": {
  "kernelspec": {
   "display_name": "Python (base)",
   "language": "python",
   "name": "base"
  },
  "language_info": {
   "codemirror_mode": {
    "name": "ipython",
    "version": 3
   },
   "file_extension": ".py",
   "mimetype": "text/x-python",
   "name": "python",
   "nbconvert_exporter": "python",
   "pygments_lexer": "ipython3",
   "version": "3.11.7"
  }
 },
 "nbformat": 4,
 "nbformat_minor": 5
}
